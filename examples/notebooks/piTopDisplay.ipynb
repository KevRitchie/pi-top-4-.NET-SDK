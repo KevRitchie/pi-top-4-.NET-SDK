{
 "cells": [
  {
   "cell_type": "markdown",
   "metadata": {},
   "source": [
    "# Using hte piTop[4] display"
   ]
  },
  {
   "cell_type": "code",
   "execution_count": 1,
   "metadata": {},
   "outputs": [
    {
     "data": {
      "text/html": [
       "\r\n",
       "<div>\r\n",
       "    <div id='dotnet-interactive-this-cell-30216.8952f93e374f4fb4a12f13cf0f181fa5' style='display: none'>\r\n",
       "        The below script needs to be able to find the current output cell; this is an easy method to get it.\r\n",
       "    </div>\r\n",
       "    <script type='text/javascript'>\r\n",
       "// ensure `require` is available globally\r\n",
       "if (typeof require !== typeof Function || typeof require.config !== typeof Function) {\r\n",
       "    let require_script = document.createElement('script');\r\n",
       "    require_script.setAttribute('src', 'https://cdnjs.cloudflare.com/ajax/libs/require.js/2.3.6/require.min.js');\r\n",
       "    require_script.setAttribute('type', 'text/javascript');\r\n",
       "    require_script.onload = function () {\r\n",
       "        loadDotnetInteractiveApi();\r\n",
       "    };\r\n",
       "\r\n",
       "    document.getElementsByTagName('head')[0].appendChild(require_script);\r\n",
       "}\r\n",
       "else {\r\n",
       "    loadDotnetInteractiveApi();\r\n",
       "}\r\n",
       "\r\n",
       "async function probeAddresses(probingAddresses) {\r\n",
       "    function timeout(ms, promise) {\r\n",
       "        return new Promise(function (resolve, reject) {\r\n",
       "            setTimeout(function () {\r\n",
       "                reject(new Error('timeout'))\r\n",
       "            }, ms)\r\n",
       "            promise.then(resolve, reject)\r\n",
       "        })\r\n",
       "    }\r\n",
       "\r\n",
       "    if (Array.isArray(probingAddresses)) {\r\n",
       "        for (let i = 0; i < probingAddresses.length; i++) {\r\n",
       "\r\n",
       "            let rootUrl = probingAddresses[i];\r\n",
       "\r\n",
       "            if (!rootUrl.endsWith('/')) {\r\n",
       "                rootUrl = `${rootUrl}/`;\r\n",
       "            }\r\n",
       "\r\n",
       "            try {\r\n",
       "                let response = await timeout(1000, fetch(`${rootUrl}discovery`, {\r\n",
       "                    method: 'POST',\r\n",
       "                    cache: 'no-cache',\r\n",
       "                    mode: 'cors',\r\n",
       "                    timeout: 1000,\r\n",
       "                    headers: {\r\n",
       "                        'Content-Type': 'text/plain'\r\n",
       "                    },\r\n",
       "                    body: probingAddresses[i]\r\n",
       "                }));\r\n",
       "\r\n",
       "                if (response.status == 200) {\r\n",
       "                    return rootUrl;\r\n",
       "                }\r\n",
       "            }\r\n",
       "            catch (e) { }\r\n",
       "        }\r\n",
       "    }\r\n",
       "}\r\n",
       "\r\n",
       "function loadDotnetInteractiveApi() {\r\n",
       "    probeAddresses([\"http://10.0.0.252:1024/\", \"http://127.0.0.1:1024/\"])\r\n",
       "        .then((root) => {\r\n",
       "            // use probing to find host url and api resources\r\n",
       "            // load interactive helpers and language services\r\n",
       "            let dotnet_require = require.config({\r\n",
       "                context: '30216.8952f93e374f4fb4a12f13cf0f181fa5',\r\n",
       "                paths: {\r\n",
       "                    'dotnet-interactive': `${root}resources`\r\n",
       "                }\r\n",
       "            }) || require;\r\n",
       "            if (!window.dotnet_require) {\r\n",
       "                window.dotnet_require = dotnet_require;\r\n",
       "            }\r\n",
       "        \r\n",
       "            dotnet_require([\r\n",
       "                    'dotnet-interactive/dotnet-interactive'\r\n",
       "                ],\r\n",
       "                function (dotnet) {\r\n",
       "                    dotnet.init(window);\r\n",
       "                },\r\n",
       "                function (error) {\r\n",
       "                    console.log(error);\r\n",
       "                }\r\n",
       "            );\r\n",
       "        })\r\n",
       "        .catch(error => {console.log(error);});\r\n",
       "    }\r\n",
       "    </script>\r\n",
       "</div>"
      ]
     },
     "metadata": {},
     "output_type": "display_data"
    },
    {
     "data": {
      "text/plain": [
       "Installed package piTop version 1.0.115"
      ]
     },
     "metadata": {},
     "output_type": "display_data"
    },
    {
     "data": {
      "text/plain": [
       "Installed package SixLabors.Fonts version 1.0.0-beta0011"
      ]
     },
     "metadata": {},
     "output_type": "display_data"
    },
    {
     "data": {
      "text/plain": [
       "Installed package piTop.FoundationKit version 1.0.115"
      ]
     },
     "metadata": {},
     "output_type": "display_data"
    },
    {
     "data": {
      "text/plain": [
       "Loaded kernel extension \"KernelExtension\" from assembly /home/pi/.nuget/packages/pitop/1.0.115/interactive-extensions/dotnet/PiTop.InteractiveExtension.dll"
      ]
     },
     "metadata": {},
     "output_type": "display_data"
    },
    {
     "data": {
      "text/plain": [
       "Loaded kernel extension \"KernelExtension\" from assembly /home/pi/.nuget/packages/pitop.foundationkit/1.0.115/interactive-extensions/dotnet/PiTopMakerArchitecture.Foundation.InteractiveExtension.dll"
      ]
     },
     "metadata": {},
     "output_type": "display_data"
    }
   ],
   "source": [
    "#r \"nuget:piTop\"\n",
    "#r \"nuget:piTop.FoundationKit\"\n",
    "#r \"nuget:SixLabors.Fonts,1.0.0-beta0010\""
   ]
  },
  {
   "cell_type": "code",
   "execution_count": 2,
   "metadata": {},
   "outputs": [],
   "source": [
    "using PiTop;\n",
    "using PiTop.Abstractions;\n",
    "using PiTopMakerArchitecture.Foundation;\n",
    "using PiTopMakerArchitecture.Foundation.Components;\n",
    "using PiTopMakerArchitecture.Foundation.Sensors;"
   ]
  },
  {
   "cell_type": "code",
   "execution_count": 3,
   "metadata": {},
   "outputs": [],
   "source": [
    "var module = PiTopModule.Instance;"
   ]
  },
  {
   "cell_type": "code",
   "execution_count": 4,
   "metadata": {},
   "outputs": [],
   "source": [
    "var builtinDisplay = module.Display;"
   ]
  },
  {
   "cell_type": "code",
   "execution_count": 7,
   "metadata": {},
   "outputs": [],
   "source": [
    "using SixLabors.ImageSharp;\n",
    "using SixLabors.ImageSharp.Drawing;\n",
    "using SixLabors.ImageSharp.Drawing.Processing;\n",
    "\n",
    "builtinDisplay.Draw((d,cr) =>\n",
    "            {\n",
    "                var square = new RectangularPolygon(builtinDisplay.Width / 4, builtinDisplay.Height / 4, builtinDisplay.Width/2, builtinDisplay.Height/2);     \n",
    "                d.Clear(Color.Black);\n",
    "                d.Fill(Color.White, square);\n",
    "            });"
   ]
  },
  {
   "cell_type": "code",
   "execution_count": 9,
   "metadata": {},
   "outputs": [
    {
     "data": {
      "text/html": [
       "<img src=\"data:image/png;base64, iVBORw0KGgoAAAANSUhEUgAAAIAAAABACAYAAADS1n9/AAAACXBIWXMAAA7EAAAOxAGVKw4bAAAAxUlEQVR4nO3bsREAIAzEsHDH/ivDGCksLZDGZf7OzBuy7pAmgDgBxAkgTgBxAogTQJwA4gQQJ4A4AcQJIE4AcQKIE0DcegDvtd8Rzjmr99cDYJcA4gQQJ4A4AcQJIE4AcQKIE0CcAOIEECeAOAHECSBOAHECiBNAnADiBBAngDgBxAkgTgBxAogTQJwA4gQQJ4A4AcQJIE4AcesBbO/j69YDYJcA4gQQJ4A4AcQJIE4AcQKIE0CcAOIEECeAOAHECSBOAHEf3k4FA0azPnIAAAAASUVORK5CYII=\"></img>"
      ]
     },
     "metadata": {},
     "output_type": "display_data"
    }
   ],
   "source": [
    "display(builtinDisplay, \"text/html\")"
   ]
  },
  {
   "cell_type": "code",
   "execution_count": 11,
   "metadata": {},
   "outputs": [],
   "source": [
    "using System;\n",
    "using SixLabors.Fonts;\n",
    "using SixLabors.ImageSharp;\n",
    "using SixLabors.ImageSharp.Drawing;\n",
    "using SixLabors.ImageSharp.Drawing.Processing;\n",
    "\n",
    "var font = SystemFonts.Collection.Find(\"Roboto\").CreateFont(14);\n",
    "var text = \"Diego was here\";\n",
    "module.Display.Draw((context,cr) => {\n",
    "    context.Clear(Color.Black);\n",
    "    var rect = TextMeasurer.Measure(text, new RendererOptions(font));\n",
    "    var x = (cr.Width - rect.Width) / 2;\n",
    "    var y = (cr.Height + (rect.Height)) / 2;\n",
    "    context.DrawText(text, font, Color.White, new PointF(0, 0));\n",
    "});"
   ]
  },
  {
   "cell_type": "code",
   "execution_count": 12,
   "metadata": {},
   "outputs": [
    {
     "data": {
      "text/html": [
       "<img src=\"data:image/png;base64, iVBORw0KGgoAAAANSUhEUgAAAIAAAABACAYAAADS1n9/AAAACXBIWXMAAA7EAAAOxAGVKw4bAAADAElEQVR4nO2abY7iMBBEgzRXgRPAZTggl4ETwGFYdVYVVXr8xQ+YiKonrXaUOHa7/dxxZvdnmqbnZGT5mYw0FkAcCyCOBRDHAogzC3C/35cL5/N5/vt2u60aHo/H4vVv5Pl8To/HYzocDtO3Mwuw3++XC9frdfl5t9v9us7XvhnOyTezvALY+NjtseCxE7DgKgsPIh8KLAKw8VHmIwF8LZdFSAJOp9Pq9RDtAfpiifh+UBIMY+TneCyOK8eUy/jImCDi5fa9+WGc2hivjP1JVhWAiQlF0JFUTBxCcKJjItGOFwqTjaQFvCi1+1xtAMZFDDirZClwbsE40e/lcpnjzc/2xmQiJ9F3tO3Nj/PEz9baRzxbOGMUKwATicyB5vMAJIhJYdK8Y7iaYCE48bnaZJD83CYfTHlMCJyf5bY9MO9e/BxjfhYx5gqylTNG9zMQC1oil7X8GhmlVG1AlgOyBbmylGJCZcNzvBtbMfbOAHmcHqVYt0BVAJjbIu8iLrU1XjUfJTj3iwXAQuXXEtpkedCu91VTixPXRypIEBUUcbY2019RPQMgQa1dwvfwTmudHYJIXN4NWNzSWKU+uCqg1CLRtQXlw2K0iTFbMtYqAOLnWEuVCyAfsfj5mS2wOgOMnlS5nPJicCIiSaV3ez69v1IRsOuQVAaVolWaMceRcWv3W/G3DpTIB/e9hS+B4iug9FuwvCMgAZdEJKe3w/L93m/dSrsuxxP3uLrgZz4DYMz4MzImgFwj8ZcqB796Rub7SWYBRkwsBdwqt61v/lp/NWJx81il53O7kWdKlD5HR/uqXS/1sQXe9o9BedFHD03ms7xFgFzytmi++c/bKsBWS55Z4/8PII4FEMcCiGMBxLEA4lgAcSyAOBZAHAsgjgUQxwKIYwHEsQDiWABxLIA4FkAcCyCOBRDHAohjAcSxAOJYAHEsgDgWQBwLII4FEMcCiGMBxLEA4lgAcSyAOBZAHAsgjgUQxwKIYwHEsQDiWABxLIA4FkAcCyCOBRDHAojzDyicIi9/9/zOAAAAAElFTkSuQmCC\"></img>"
      ]
     },
     "metadata": {},
     "output_type": "display_data"
    }
   ],
   "source": [
    "display(builtinDisplay, \"text/html\")"
   ]
  },
  {
   "cell_type": "code",
   "execution_count": null,
   "metadata": {},
   "outputs": [],
   "source": []
  }
 ],
 "metadata": {
  "kernelspec": {
   "display_name": ".NET (C#)",
   "language": "C#",
   "name": ".net-csharp"
  },
  "language_info": {
   "file_extension": ".cs",
   "mimetype": "text/x-csharp",
   "name": "C#",
   "pygments_lexer": "csharp",
   "version": "8.0"
  }
 },
 "nbformat": 4,
 "nbformat_minor": 4
}
