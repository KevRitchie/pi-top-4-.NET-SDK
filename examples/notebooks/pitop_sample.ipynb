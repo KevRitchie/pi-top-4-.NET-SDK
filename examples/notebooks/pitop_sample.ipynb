{
  "cells": [
    {
      "cell_type": "code",
      "source": [
        "#i \"nuget:/home/pi/localNuget\""
      ],
      "outputs": [],
      "execution_count": null,
      "metadata": {}
    },
    {
      "cell_type": "code",
      "source": [
        "#r \"nuget:piTop\"\n",
        "#r \"nuget:piTop.FoundationKit\""
      ],
      "outputs": [],
      "execution_count": null,
      "metadata": {}
    },
    {
      "cell_type": "code",
      "source": [
        "using PiTopMakerArchitecture.Foundation;\n",
        "using PiTopMakerArchitecture.Foundation.Components;\n",
        "using PiTopMakerArchitecture.Foundation.Sensors;"
      ],
      "outputs": [],
      "execution_count": null,
      "metadata": {}
    },
    {
      "cell_type": "code",
      "source": [
        "var plate = new Plate();"
      ],
      "outputs": [],
      "execution_count": null,
      "metadata": {}
    },
    {
      "cell_type": "code",
      "source": [
        "var greenLed = plate.GetOrCreateDigitalDevice<Led>(DigitalPort.D0);\n",
        "greenLed.DisplayProperties.Add(new NamedCssColor(\"green\"));"
      ],
      "outputs": [],
      "execution_count": null,
      "metadata": {}
    },
    {
      "cell_type": "code",
      "source": [
        "var amberLed = plate.GetOrCreateDigitalDevice<Led>(DigitalPort.D1);\n",
        "amberLed.DisplayProperties.Add(new NamedCssColor(\"gold\"));"
      ],
      "outputs": [],
      "execution_count": null,
      "metadata": {}
    },
    {
      "cell_type": "code",
      "source": [
        "var redLed = plate.GetOrCreateDigitalDevice<Led>(DigitalPort.D2);\n",
        "redLed.DisplayProperties.Add(new NamedCssColor(\"red\"));"
      ],
      "outputs": [],
      "execution_count": null,
      "metadata": {}
    },
    {
      "cell_type": "code",
      "source": [
        "greenLed.Off();\n",
        "amberLed.Off();\n",
        "redLed.Off();"
      ],
      "outputs": [],
      "execution_count": null,
      "metadata": {}
    },
    {
      "cell_type": "code",
      "source": [
        "display(plate, JsonFormatter.MimeType);"
      ],
      "outputs": [],
      "execution_count": null,
      "metadata": {}
    },
    {
      "cell_type": "code",
      "source": [
        "plate"
      ],
      "outputs": [],
      "execution_count": null,
      "metadata": {}
    },
    {
      "cell_type": "code",
      "source": [
        "var pot = plate.GetOrCreateAnalogueDevice<Potentiometer>(AnaloguePort.A0);"
      ],
      "outputs": [],
      "execution_count": null,
      "metadata": {}
    },
    {
      "cell_type": "code",
      "source": [
        "pot"
      ],
      "outputs": [],
      "execution_count": null,
      "metadata": {}
    },
    {
      "cell_type": "code",
      "source": [
        "plate"
      ],
      "outputs": [],
      "execution_count": null,
      "metadata": {}
    },
    {
      "cell_type": "code",
      "source": [
        "greenLed.On();\n",
        "greenLed"
      ],
      "outputs": [],
      "execution_count": null,
      "metadata": {}
    },
    {
      "cell_type": "code",
      "source": [
        "amberLed.On();\n",
        "amberLed"
      ],
      "outputs": [],
      "execution_count": null,
      "metadata": {}
    },
    {
      "cell_type": "code",
      "source": [
        "redLed.On();\n",
        "redLed"
      ],
      "outputs": [],
      "execution_count": null,
      "metadata": {}
    },
    {
      "cell_type": "code",
      "source": [
        "greenLed.Toggle();\n",
        "greenLed"
      ],
      "outputs": [],
      "execution_count": null,
      "metadata": {}
    },
    {
      "cell_type": "code",
      "source": [
        "var ultraSound = plate.GetOrCreateDigitalDevice<UltrasonicSensor>(DigitalPort.D3);"
      ],
      "outputs": [],
      "execution_count": null,
      "metadata": {}
    },
    {
      "cell_type": "code",
      "source": [
        "ultraSound"
      ],
      "outputs": [],
      "execution_count": null,
      "metadata": {}
    },
    {
      "cell_type": "code",
      "source": [
        "plate"
      ],
      "outputs": [],
      "execution_count": null,
      "metadata": {}
    },
    {
      "cell_type": "code",
      "source": [
        "var distances = new List<double>(){0};\n",
        "\n",
        "async Task readDistance(int count = 10){   \n",
        "    for (var i = 0; i < count; i++){        \n",
        "        if(distances.Count > 5){\n",
        "            distances.RemoveAt(0);\n",
        "        }\n",
        "        distances.Add(ultraSound.Distance);\n",
        "        await Task.Delay(500);\n",
        "    }\n",
        "}"
      ],
      "outputs": [],
      "execution_count": null,
      "metadata": {}
    },
    {
      "cell_type": "code",
      "source": [
        "#!js \n",
        "\n",
        "if (typeof (notebookScope.interval) !== 'undefined') {\n",
        "    clearInterval(notebookScope.interval);\n",
        "}        \n",
        "\n",
        "notebookScope.plot = (sgvSelector, variableName) => {   \n",
        "    let dtree_require = require.config({\n",
        "        paths: {\n",
        "            d3: \"https://d3js.org/d3.v5.min\"\n",
        "        }\n",
        "    });\n",
        "    dtree_require([\"d3\"], function (d3) {       \n",
        "        let svg = d3.\n",
        "            select(sgvSelector);\n",
        "        svg.selectAll(\"defs\").remove();\n",
        "        svg.selectAll(\"g\").remove();\n",
        "\n",
        "        let defs = svg.append(\"defs\");\n",
        "\n",
        "        let filter = defs.append(\"filter\").attr(\"id\", \"gooeyCodeFilter\");\n",
        "\n",
        "        filter.append(\"feGaussianBlur\")\n",
        "            .attr(\"in\", \"SourceGraphic\")\n",
        "            .attr(\"stdDeviation\", \"10\")\n",
        "            .attr(\"color-interpolation-filters\", \"sRGB\")\n",
        "            .attr(\"result\", \"blur\");\n",
        "\n",
        "        filter.append(\"feColorMatrix\")\n",
        "            .attr(\"in\", \"blur\")\n",
        "            .attr(\"mode\", \"matrix\")\n",
        "            .attr(\"values\", \"1 0 0 0 0  0 1 0 0 0  0 0 1 0 0  0 0 0 19 -9\")\n",
        "            .attr(\"result\", \"gooey\");\n",
        "\n",
        "        let container = d3\n",
        "            .select(sgvSelector)\n",
        "            .append(\"g\")\n",
        "            .style(\"filter\", \"url(#gooeyCodeFilter)\");\n",
        "\n",
        "        updateD3Rendering = () => interactive.csharp.getVariable(variableName)\n",
        "            .then(data => {\n",
        "                container\n",
        "                    .selectAll(\".points\")\n",
        "                    .data(data, (d, i) => i)\n",
        "                    .join(\n",
        "                        enter => enter.append(\"circle\")\n",
        "                            .attr(\"class\", \"points\")\n",
        "                            .attr(\"cy\", 80)\n",
        "                            .attr(\"cx\", (d, i) => ((i + 1) * 50))\n",
        "                            .transition()\n",
        "                            .duration(2000)\n",
        "                            .style(\"fill\", d => d3.interpolateTurbo(d / 50))\n",
        "                            .ease(d3.easeElasticOut.period(1.00))\n",
        "                            .attr(\"r\", d => Math.max(0, d)),\n",
        "                        update => update\n",
        "                            .transition()\n",
        "                            .duration(2000)                            \n",
        "                            .style(\"fill\", d => d3.interpolateTurbo(d / 50))\n",
        "                            .attr(\"r\", d => Math.max(0, d)),\n",
        "                        exit => exit\n",
        "                            .transition()\n",
        "                            .duration(1000)                            \n",
        "                            .attr(\"r\", 0 )\n",
        "                            .remove());\n",
        "            });\n",
        "        notebookScope.interval = setInterval(() => updateD3Rendering(), 1000);\n",
        "    });\n",
        "}"
      ],
      "outputs": [],
      "execution_count": null,
      "metadata": {}
    },
    {
      "cell_type": "code",
      "source": [
        "#!html\n",
        "<svg id=\"dataPlot1\" width=\"100%\"></svg>\n",
        "\n",
        "#!js\n",
        "notebookScope.plot(\"svg#dataPlot1\", \"distances\");"
      ],
      "outputs": [],
      "execution_count": null,
      "metadata": {}
    },
    {
      "cell_type": "code",
      "source": [
        "await readDistance(20);"
      ],
      "outputs": [],
      "execution_count": null,
      "metadata": {}
    },
    {
      "cell_type": "code",
      "source": [
        "distances"
      ],
      "outputs": [],
      "execution_count": null,
      "metadata": {}
    }
  ],
  "metadata": {
    "kernelspec": {
      "display_name": ".NET (C#)",
      "language": "C#",
      "name": ".net-csharp"
    },
    "language_info": {
      "file_extension": ".cs",
      "mimetype": "text/x-csharp",
      "name": "C#",
      "pygments_lexer": "csharp",
      "version": "8.0"
    },
    "nteract": {
      "version": "0.21.0"
    }
  },
  "nbformat": 4,
  "nbformat_minor": 4
}